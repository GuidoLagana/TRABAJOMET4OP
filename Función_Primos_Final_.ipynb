{
  "nbformat": 4,
  "nbformat_minor": 0,
  "metadata": {
    "colab": {
      "provenance": []
    },
    "kernelspec": {
      "name": "python3",
      "display_name": "Python 3"
    },
    "language_info": {
      "name": "python"
    }
  },
  "cells": [
    {
      "cell_type": "markdown",
      "source": [
        "Esta es la primer programación funcional que hicimos a partir de lo visto en clase, usando condicionales y un input y un contador para que pare cuando llegué al numero 1000. Sin embargo no conseguimos que el codigo nos de el resultado correcto"
      ],
      "metadata": {
        "id": "YgPsjoD6rHx8"
      }
    },
    {
      "cell_type": "code",
      "execution_count": 1,
      "metadata": {
        "colab": {
          "base_uri": "https://localhost:8080/"
        },
        "id": "vbvsukZDqTWB",
        "outputId": "fac2e33d-05ba-4cab-c651-0cd561c11ea5"
      },
      "outputs": [
        {
          "output_type": "stream",
          "name": "stdout",
          "text": [
            "La posición de número primo que quiere saber es la Nro   1000\n",
            "El número primo nro  1000 es  4363\n"
          ]
        }
      ],
      "source": [
        "def num_primos(numero):\n",
        "    if numero <= 1:\n",
        "        return False\n",
        "    if numero <= 3:\n",
        "        return True\n",
        "    if numero % 2 == 0 or numero % 3 == 0:\n",
        "        return False\n",
        "    if numero > 24 and numero % 5 == 0:\n",
        "        return False\n",
        "    if numero > 48 and numero % 7 == 0:\n",
        "        return False\n",
        "\n",
        "    return True\n",
        "\n",
        "def ubicacion_primos(posicion):\n",
        "\n",
        "    contador = 0\n",
        "    numero = 2\n",
        "\n",
        "    while contador < posicion:\n",
        "        if num_primos(numero):\n",
        "            contador += 1\n",
        "        if contador < posicion:\n",
        "            numero += 1\n",
        "\n",
        "    return numero #Devolviendo el numero primo\n",
        "\n",
        "posicion = int(input(\"La posición de número primo que quiere saber es la Nro   \"))\n",
        "numero_primo = ubicacion_primos(posicion)\n",
        "print(\"El número primo nro \", posicion, \"es \",numero_primo)"
      ]
    },
    {
      "cell_type": "markdown",
      "source": [
        "Aca esta el segundo codigo que hicimos a partir de la idea de un video de youtube donde a partir de un range hacemos que se dividan todos los numeros entre el dos y el numero que elegimos."
      ],
      "metadata": {
        "id": "UHfwisy9ra-s"
      }
    },
    {
      "cell_type": "code",
      "source": [
        "def es_primo(num):\n",
        "    if num < 2:\n",
        "        return False\n",
        "    for i in range(2, num):\n",
        "        if num % i == 0:\n",
        "            return False\n",
        "    return True\n",
        "\n",
        "def ubicacion_primos(posicion):\n",
        "\n",
        "    encontrados = 0\n",
        "    numero = 2\n",
        "\n",
        "    while encontrados < posicion:\n",
        "        if es_primo(numero):\n",
        "            encontrados += 1\n",
        "        if encontrados < posicion:\n",
        "            numero += 1\n",
        "\n",
        "    return numero\n",
        "\n",
        "posicion = int(input(\"La posición de número primo que quiere saber es la Nro   \"))\n",
        "numero_primo = ubicacion_primos(posicion)\n",
        "print(\"El número primo nro \", posicion, \"es \",numero_primo)\n"
      ],
      "metadata": {
        "colab": {
          "base_uri": "https://localhost:8080/"
        },
        "id": "MMzmC5CbrA2n",
        "outputId": "bb651798-bbd0-41de-a908-eb26afc95327"
      },
      "execution_count": 2,
      "outputs": [
        {
          "output_type": "stream",
          "name": "stdout",
          "text": [
            "La posición de número primo que quiere saber es la Nro   1000\n",
            "El número primo nro  1000 es  7919\n"
          ]
        }
      ]
    }
  ]
}