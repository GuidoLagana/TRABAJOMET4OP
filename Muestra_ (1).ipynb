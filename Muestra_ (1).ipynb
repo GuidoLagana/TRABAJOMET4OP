{
  "nbformat": 4,
  "nbformat_minor": 0,
  "metadata": {
    "colab": {
      "provenance": []
    },
    "kernelspec": {
      "name": "python3",
      "display_name": "Python 3"
    },
    "language_info": {
      "name": "python"
    }
  },
  "cells": [
    {
      "cell_type": "markdown",
      "source": [
        "# **Muestra de la investigación**\n",
        "\n",
        "\n",
        "**Universo:** Electorado de CABA en las Elecciones generales 2023\n",
        "\n",
        "**Unidad de análisis:** Votantes de CABA\n",
        "\n",
        "**Unidad de muestreo:** Votante de CABA\n",
        "\n",
        "**Extensión espacial:** Ciudad Autonoma de Buenos Aires\n",
        "\n",
        "**Extensión temporal:** Desde el domingo 22 de octubre hasta el 1 de Noviembre\n",
        "\n",
        "# **Marco Muestral**\n",
        "\n",
        "**Lista de unidades de muestreo:** Padrón Electoral 2023\n",
        "\n",
        "**Tipo de Muestreo:** Probabilístico\n",
        "\n",
        "**Procedimiento de muestreo:**  Conglomerados por Fases Múltiples en Comunas y barrios\n",
        "\n",
        "**Tamaño de la Muestra:**\n"
      ],
      "metadata": {
        "id": "NDol3h0Kbi4m"
      }
    },
    {
      "cell_type": "code",
      "execution_count": 7,
      "metadata": {
        "colab": {
          "base_uri": "https://localhost:8080/"
        },
        "id": "MYEBsZnCZHmP",
        "outputId": "339550c8-71b4-43bc-b98b-96e18712499d"
      },
      "outputs": [
        {
          "output_type": "stream",
          "name": "stdout",
          "text": [
            "El tamaño de la población es 2526676\n",
            "El nivel de confianza es de 95% y el margen de error del 3%\n",
            "Tamaño de muestra: 1068\n"
          ]
        }
      ],
      "source": [
        "import math\n",
        "\n",
        "# Parámetros\n",
        "poblacion = 2526676\n",
        "nivel_confianza = 0.95\n",
        "margen_error = 0.03\n",
        "\n",
        "\n",
        "z_valor = 1.96\n",
        "p = 0.5\n",
        "e = margen_error\n",
        "\n",
        "n = ((z_valor**2) * p * (1 - p)) / (e**2)\n",
        "\n",
        "\n",
        "print(\"El tamaño de la población es\", poblacion)\n",
        "\n",
        "print(\"El nivel de confianza es de 95% y el margen de error del 3%\")\n",
        "\n",
        "print(f\"Tamaño de muestra: {math.ceil(n)}\")\n"
      ]
    }
  ]
}