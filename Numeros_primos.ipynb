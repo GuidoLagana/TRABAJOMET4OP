{
  "nbformat": 4,
  "nbformat_minor": 0,
  "metadata": {
    "colab": {
      "provenance": []
    },
    "kernelspec": {
      "name": "python3",
      "display_name": "Python 3"
    },
    "language_info": {
      "name": "python"
    }
  },
  "cells": [
    {
      "cell_type": "code",
      "source": [
        "def num_primos(numero):\n",
        "  if  numero <= 1:\n",
        "    return False\n",
        "  if numero <= 3:\n",
        "    return True\n",
        "  if numero % 2 == 0 or numero % 3 == 0:\n",
        "    return False\n",
        "  if numero % 2 != 0 or numero % 3 != 0:\n",
        "    return True\n",
        "  while numero > 25:\n",
        "    if numero % 5 != 0 or numero % 7 != 0 :\n",
        "      return True\n",
        "\n",
        "print(num_primos(1000))\n",
        "\n",
        "print(num_primos(25))\n",
        "\n",
        "print(num_primos(7))\n",
        "\n",
        "print(num_primos(12))"
      ],
      "metadata": {
        "colab": {
          "base_uri": "https://localhost:8080/"
        },
        "id": "WeELeVEdIqD6",
        "outputId": "00c4337e-2a94-4601-f118-50da7d99141e"
      },
      "execution_count": 8,
      "outputs": [
        {
          "output_type": "stream",
          "name": "stdout",
          "text": [
            "False\n",
            "True\n",
            "True\n",
            "False\n"
          ]
        }
      ]
    },
    {
      "cell_type": "code",
      "source": [
        "numero= 2\n",
        "contador = 0\n",
        "\n",
        "def num_primos(numero):\n",
        "  if  numero <= 1:\n",
        "    return False\n",
        "  if numero <= 3:\n",
        "    return True\n",
        "  if numero % 2 == 0 or numero % 3 == 0:\n",
        "    return False\n",
        "  if numero % 2 != 0 or numero % 3 != 0:\n",
        "    return True\n",
        "  while numero > 25:\n",
        "    if numero % 5 != 0 or numero % 7 != 0 :\n",
        "      return True\n",
        "\n",
        "\n",
        "def ubicacion(posicion):\n",
        "\n",
        "  while contador < posicion:\n",
        "    if num_primos(numero):\n",
        "      contador =+ 1\n",
        "  while contador < posicion:\n",
        "    if num_primos(numero):\n",
        "      numero =+ 1\n",
        "\n",
        "\n",
        "\n",
        "posicion= int(input(\"La posición que quiero saber es:\"))\n",
        "\n",
        "primo = ubicacion(posicion)\n",
        "\n",
        "print(f\"El numero primo en al posicion {posicion} es el numero {primo}\")"
      ],
      "metadata": {
        "colab": {
          "base_uri": "https://localhost:8080/",
          "height": 383
        },
        "id": "UDucaX6eVwoi",
        "outputId": "775cc59d-02bf-4b4d-aa82-722253813e5e"
      },
      "execution_count": 10,
      "outputs": [
        {
          "name": "stdout",
          "output_type": "stream",
          "text": [
            "La posición que quiero saber es:1000\n"
          ]
        },
        {
          "output_type": "error",
          "ename": "UnboundLocalError",
          "evalue": "ignored",
          "traceback": [
            "\u001b[0;31m---------------------------------------------------------------------------\u001b[0m",
            "\u001b[0;31mUnboundLocalError\u001b[0m                         Traceback (most recent call last)",
            "\u001b[0;32m<ipython-input-10-44b158252658>\u001b[0m in \u001b[0;36m<cell line: 31>\u001b[0;34m()\u001b[0m\n\u001b[1;32m     29\u001b[0m \u001b[0mposicion\u001b[0m\u001b[0;34m=\u001b[0m \u001b[0mint\u001b[0m\u001b[0;34m(\u001b[0m\u001b[0minput\u001b[0m\u001b[0;34m(\u001b[0m\u001b[0;34m\"La posición que quiero saber es:\"\u001b[0m\u001b[0;34m)\u001b[0m\u001b[0;34m)\u001b[0m\u001b[0;34m\u001b[0m\u001b[0;34m\u001b[0m\u001b[0m\n\u001b[1;32m     30\u001b[0m \u001b[0;34m\u001b[0m\u001b[0m\n\u001b[0;32m---> 31\u001b[0;31m \u001b[0mprimo\u001b[0m \u001b[0;34m=\u001b[0m \u001b[0mubicacion\u001b[0m\u001b[0;34m(\u001b[0m\u001b[0mposicion\u001b[0m\u001b[0;34m)\u001b[0m\u001b[0;34m\u001b[0m\u001b[0;34m\u001b[0m\u001b[0m\n\u001b[0m\u001b[1;32m     32\u001b[0m \u001b[0;34m\u001b[0m\u001b[0m\n\u001b[1;32m     33\u001b[0m \u001b[0mprint\u001b[0m\u001b[0;34m(\u001b[0m\u001b[0;34mf\"El numero primo en al posicion {posicion} es el numero {primo}\"\u001b[0m\u001b[0;34m)\u001b[0m\u001b[0;34m\u001b[0m\u001b[0;34m\u001b[0m\u001b[0m\n",
            "\u001b[0;32m<ipython-input-10-44b158252658>\u001b[0m in \u001b[0;36mubicacion\u001b[0;34m(posicion)\u001b[0m\n\u001b[1;32m     18\u001b[0m \u001b[0;32mdef\u001b[0m \u001b[0mubicacion\u001b[0m\u001b[0;34m(\u001b[0m\u001b[0mposicion\u001b[0m\u001b[0;34m)\u001b[0m\u001b[0;34m:\u001b[0m\u001b[0;34m\u001b[0m\u001b[0;34m\u001b[0m\u001b[0m\n\u001b[1;32m     19\u001b[0m \u001b[0;34m\u001b[0m\u001b[0m\n\u001b[0;32m---> 20\u001b[0;31m   \u001b[0;32mwhile\u001b[0m \u001b[0mcontador\u001b[0m \u001b[0;34m<\u001b[0m \u001b[0mposicion\u001b[0m\u001b[0;34m:\u001b[0m\u001b[0;34m\u001b[0m\u001b[0;34m\u001b[0m\u001b[0m\n\u001b[0m\u001b[1;32m     21\u001b[0m     \u001b[0;32mif\u001b[0m \u001b[0mnum_primos\u001b[0m\u001b[0;34m(\u001b[0m\u001b[0mnumero\u001b[0m\u001b[0;34m)\u001b[0m\u001b[0;34m:\u001b[0m\u001b[0;34m\u001b[0m\u001b[0;34m\u001b[0m\u001b[0m\n\u001b[1;32m     22\u001b[0m       \u001b[0mcontador\u001b[0m \u001b[0;34m=\u001b[0m\u001b[0;34m+\u001b[0m \u001b[0;36m1\u001b[0m\u001b[0;34m\u001b[0m\u001b[0;34m\u001b[0m\u001b[0m\n",
            "\u001b[0;31mUnboundLocalError\u001b[0m: local variable 'contador' referenced before assignment"
          ]
        }
      ]
    }
  ]
}