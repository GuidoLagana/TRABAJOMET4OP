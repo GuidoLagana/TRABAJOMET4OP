{
  "nbformat": 4,
  "nbformat_minor": 0,
  "metadata": {
    "colab": {
      "provenance": []
    },
    "kernelspec": {
      "name": "python3",
      "display_name": "Python 3"
    },
    "language_info": {
      "name": "python"
    }
  },
  "cells": [
    {
      "cell_type": "code",
      "source": [
        "\n",
        "def num_primos(numero):\n",
        "  if  numero <= 1:\n",
        "    return False\n",
        "  if numero <= 3:\n",
        "    return True\n",
        "  if numero % 2 == 0 or numero % 3 == 0:\n",
        "    return False\n",
        "  if numero > 24 and numero % 5 == 0:\n",
        "    return False\n",
        "  if numero > 48 and numero % 7 == 0:\n",
        "    return False\n",
        "  else:\n",
        "    return True\n",
        "\n",
        "\n",
        "\n",
        "\n",
        "print(\"1000:\", num_primos(1000))\n",
        "print(\"2:\", num_primos(2))\n",
        "print(\"43:\", num_primos(43))\n",
        "print(\"5:\", num_primos(5))\n",
        "print(\"25:\",num_primos(25))\n",
        "print(\"15:\", num_primos(15))\n",
        "print(\"49:\",num_primos(49))\n",
        "print(\"12:\",num_primos(12))"
      ],
      "metadata": {
        "colab": {
          "base_uri": "https://localhost:8080/"
        },
        "id": "NUivF52NMIDU",
        "outputId": "081df9e9-1bae-42eb-e6dd-303e5b28ab28"
      },
      "execution_count": 54,
      "outputs": [
        {
          "output_type": "stream",
          "name": "stdout",
          "text": [
            "1000: False\n",
            "2: True\n",
            "43: True\n",
            "5: True\n",
            "25: False\n",
            "15: False\n",
            "49: False\n",
            "12: False\n"
          ]
        }
      ]
    },
    {
      "cell_type": "code",
      "source": [
        "\n",
        "def num_primos(numero):\n",
        "  if  numero <= 1:\n",
        "    return False\n",
        "  if numero <= 3:\n",
        "    return True\n",
        "  if numero % 2 == 0 or numero % 3 == 0:\n",
        "    return False\n",
        "  if numero > 24 and numero % 5 == 0:\n",
        "    return False\n",
        "  if numero > 48 and numero % 7 == 0:\n",
        "    return False\n",
        "  else:\n",
        "    return True\n",
        "\n",
        "contador= 0\n",
        "numero= 2\n",
        "\n",
        "def ubicacion(posicion):\n",
        "\n",
        "  while contador < posicion:\n",
        "    if num_primos(numero):\n",
        "      contador =+ 1\n",
        "    elif num_primos(numero):\n",
        "      numero = numero + 1\n",
        "\n",
        "\n",
        "  return numero\n",
        "\n",
        "\n",
        "\n",
        "posicion= int(input(\"La posición que quiero saber es:\"))\n",
        "\n",
        "primo= ubicacion(posicion)\n",
        "\n",
        "print(f\"El numero primo en al posicion {posicion} es el numero {primo}\")\n",
        "\n",
        "\n"
      ],
      "metadata": {
        "colab": {
          "base_uri": "https://localhost:8080/",
          "height": 383
        },
        "id": "UDucaX6eVwoi",
        "outputId": "b4658855-92f8-4acd-a7a6-f66c5dc16bf4"
      },
      "execution_count": 60,
      "outputs": [
        {
          "name": "stdout",
          "output_type": "stream",
          "text": [
            "La posición que quiero saber es:1000\n"
          ]
        },
        {
          "output_type": "error",
          "ename": "UnboundLocalError",
          "evalue": "ignored",
          "traceback": [
            "\u001b[0;31m---------------------------------------------------------------------------\u001b[0m",
            "\u001b[0;31mUnboundLocalError\u001b[0m                         Traceback (most recent call last)",
            "\u001b[0;32m<ipython-input-60-8cef0bea696f>\u001b[0m in \u001b[0;36m<cell line: 33>\u001b[0;34m()\u001b[0m\n\u001b[1;32m     31\u001b[0m \u001b[0mposicion\u001b[0m\u001b[0;34m=\u001b[0m \u001b[0mint\u001b[0m\u001b[0;34m(\u001b[0m\u001b[0minput\u001b[0m\u001b[0;34m(\u001b[0m\u001b[0;34m\"La posición que quiero saber es:\"\u001b[0m\u001b[0;34m)\u001b[0m\u001b[0;34m)\u001b[0m\u001b[0;34m\u001b[0m\u001b[0;34m\u001b[0m\u001b[0m\n\u001b[1;32m     32\u001b[0m \u001b[0;34m\u001b[0m\u001b[0m\n\u001b[0;32m---> 33\u001b[0;31m \u001b[0mprimo\u001b[0m\u001b[0;34m=\u001b[0m \u001b[0mubicacion\u001b[0m\u001b[0;34m(\u001b[0m\u001b[0mposicion\u001b[0m\u001b[0;34m)\u001b[0m\u001b[0;34m\u001b[0m\u001b[0;34m\u001b[0m\u001b[0m\n\u001b[0m\u001b[1;32m     34\u001b[0m \u001b[0;34m\u001b[0m\u001b[0m\n\u001b[1;32m     35\u001b[0m \u001b[0mprint\u001b[0m\u001b[0;34m(\u001b[0m\u001b[0;34mf\"El numero primo en al posicion {posicion} es el numero {primo}\"\u001b[0m\u001b[0;34m)\u001b[0m\u001b[0;34m\u001b[0m\u001b[0;34m\u001b[0m\u001b[0m\n",
            "\u001b[0;32m<ipython-input-60-8cef0bea696f>\u001b[0m in \u001b[0;36mubicacion\u001b[0;34m(posicion)\u001b[0m\n\u001b[1;32m     18\u001b[0m \u001b[0;32mdef\u001b[0m \u001b[0mubicacion\u001b[0m\u001b[0;34m(\u001b[0m\u001b[0mposicion\u001b[0m\u001b[0;34m)\u001b[0m\u001b[0;34m:\u001b[0m\u001b[0;34m\u001b[0m\u001b[0;34m\u001b[0m\u001b[0m\n\u001b[1;32m     19\u001b[0m \u001b[0;34m\u001b[0m\u001b[0m\n\u001b[0;32m---> 20\u001b[0;31m   \u001b[0;32mwhile\u001b[0m \u001b[0mcontador\u001b[0m \u001b[0;34m<\u001b[0m \u001b[0mposicion\u001b[0m\u001b[0;34m:\u001b[0m\u001b[0;34m\u001b[0m\u001b[0;34m\u001b[0m\u001b[0m\n\u001b[0m\u001b[1;32m     21\u001b[0m     \u001b[0;32mif\u001b[0m \u001b[0mnum_primos\u001b[0m\u001b[0;34m(\u001b[0m\u001b[0mnumero\u001b[0m\u001b[0;34m)\u001b[0m\u001b[0;34m:\u001b[0m\u001b[0;34m\u001b[0m\u001b[0;34m\u001b[0m\u001b[0m\n\u001b[1;32m     22\u001b[0m       \u001b[0mcontador\u001b[0m \u001b[0;34m=\u001b[0m\u001b[0;34m+\u001b[0m \u001b[0;36m1\u001b[0m\u001b[0;34m\u001b[0m\u001b[0;34m\u001b[0m\u001b[0m\n",
            "\u001b[0;31mUnboundLocalError\u001b[0m: local variable 'contador' referenced before assignment"
          ]
        }
      ]
    }
  ]
}