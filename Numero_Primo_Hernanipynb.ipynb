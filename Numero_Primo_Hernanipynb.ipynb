{
  "nbformat": 4,
  "nbformat_minor": 0,
  "metadata": {
    "colab": {
      "provenance": []
    },
    "kernelspec": {
      "name": "python3",
      "display_name": "Python 3"
    },
    "language_info": {
      "name": "python"
    }
  },
  "cells": [
    {
      "cell_type": "code",
      "source": [
        "def es_primo(numero):\n",
        "    if numero <= 1:\n",
        "        return False\n",
        "    if numero <= 3:\n",
        "        return True\n",
        "    if numero % 2 == 0 or numero % 3 == 0:\n",
        "        return False\n",
        "    i = 5\n",
        "    while i * i <= numero:\n",
        "        if numero % i == 0 or numero % (i + 2) == 0:\n",   #Se cambia el ciclo for por divisiones del numero en cuestion por 2,3,5 y 7 para los numeros mayores a 25
        "            return False\n",
        "        i += 6\n",
        "    return True\n",
        "\n",
        "numero_deseado = int(input(\"Ingresa el número primo que deseas conocer: \"))\n",
        "\n",
        "contador_primos = 0\n",
        "numero = 1\n",
        "\n",
        "while contador_primos < numero_deseado:\n",
        "    numero += 1\n",
        "    if es_primo(numero):\n",
        "        contador_primos += 1\n",
        "\n",
        "print(f\"El número primo en la posición {numero_deseado} es: {numero}\")"
      ],
      "metadata": {
        "colab": {
          "base_uri": "https://localhost:8080/"
        },
        "id": "arjskpw6EXbQ",
        "outputId": "bc4f61e6-0815-499d-bb3a-40a05d710dad"
      },
      "execution_count": null,
      "outputs": [
        {
          "output_type": "stream",
          "name": "stdout",
          "text": [
            "Ingresa el número primo que deseas conocer: 1000\n",
            "El número primo en la posición 1000 es: 7919\n"
          ]
        }
      ]
    }
  ]
}
