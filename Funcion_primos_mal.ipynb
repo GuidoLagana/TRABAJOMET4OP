{
  "nbformat": 4,
  "nbformat_minor": 0,
  "metadata": {
    "colab": {
      "provenance": []
    },
    "kernelspec": {
      "name": "python3",
      "display_name": "Python 3"
    },
    "language_info": {
      "name": "python"
    }
  },
  "cells": [
    {
      "cell_type": "code",
      "source": [
        "\n",
        "def num_primos(numero):\n",
        "  if  numero <= 1:\n",
        "    return False\n",
        "  if numero <= 3:\n",
        "    return True\n",
        "  if numero % 2 == 0 or numero % 3 == 0:\n",
        "    return False\n",
        "  if numero > 24 and numero % 5 == 0:\n",
        "    return False\n",
        "  if numero > 48 and numero % 7 == 0:\n",
        "    return False\n",
        "  else:\n",
        "    return True\n",
        "\n",
        "\n",
        "\n",
        "\n",
        "print(\"1000:\", num_primos(1000))\n",
        "print(\"2:\", num_primos(2))\n",
        "print(\"43:\", num_primos(43))\n",
        "print(\"5:\", num_primos(5))\n",
        "print(\"25:\",num_primos(25))\n",
        "print(\"15:\", num_primos(15))\n",
        "print(\"49:\",num_primos(49))\n"
      ],
      "metadata": {
        "colab": {
          "base_uri": "https://localhost:8080/"
        },
        "id": "NUivF52NMIDU",
        "outputId": "1f1a0f90-e215-400e-c95a-5587aceb6ac1"
      },
      "execution_count": null,
      "outputs": [
        {
          "output_type": "stream",
          "name": "stdout",
          "text": [
            "1000: False\n",
            "2: True\n",
            "43: True\n",
            "5: True\n",
            "25: False\n",
            "15: False\n",
            "49: False\n",
            "12: False\n"
          ]
        }
      ]
    },
    {
      "cell_type": "code",
      "source": [
        "\n",
        "def num_primos(numero):\n",
        "  if  numero <= 1:\n",
        "    return False\n",
        "  if numero <= 3:\n",
        "    return True\n",
        "  if numero % 2 == 0 or numero % 3 == 0:\n",
        "    return False\n",
        "  if numero > 24 and numero % 5 == 0:\n",
        "    return False\n",
        "  if numero > 48 and numero % 7 == 0:\n",
        "    return False\n",
        "  else:\n",
        "    return True\n",
        "\n",
        "def ubicacion_primos(posicion):\n",
        "\n",
        "    contador = 0\n",
        "    numero = 2\n",
        "\n",
        "    while contador < posicion:\n",
        "        if num_primos(numero):\n",
        "            contador += 1\n",
        "        if contador < posicion:\n",
        "            numero += 1\n",
        "\n",
        "    return numero #Devolviendo el numero primo\n",
        "\n",
        "posicion = int(input(\"La posición de número primo que quiere saber es la Nro   \"))\n",
        "numero_primo = ubicacion_primos(posicion)\n",
        "print(\"El número primo nro \", posicion, \"es \",numero_primo)\n",
        "\n",
        "\n",
        "\n"
      ],
      "metadata": {
        "colab": {
          "base_uri": "https://localhost:8080/"
        },
        "id": "UDucaX6eVwoi",
        "outputId": "ba80fba0-68b3-45d8-c0db-22ac115e77be"
      },
      "execution_count": 6,
      "outputs": [
        {
          "output_type": "stream",
          "name": "stdout",
          "text": [
            "La posición de número primo que quiere saber es la Nro   1000\n",
            "El número primo nro  1000 es  4363\n"
          ]
        }
      ]
    }
  ]
}