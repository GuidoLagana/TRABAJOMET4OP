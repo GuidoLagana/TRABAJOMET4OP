{
  "nbformat": 4,
  "nbformat_minor": 0,
  "metadata": {
    "colab": {
      "provenance": []
    },
    "kernelspec": {
      "name": "python3",
      "display_name": "Python 3"
    },
    "language_info": {
      "name": "python"
    }
  },
  "cells": [
    {
      "cell_type": "code",
      "source": [
        "def es_primo(num):\n",
        "    if num < 2:\n",
        "        return False  #Evita el 1 que no es primo\n",
        "    for i in range(2, num):  #Hace un bucle a partir del rango entre el 2 y el numero seleccionado\n",
        "        if num % i == 0: #Divide al num por todos los numeros desde el 2 buscando un divisor\n",
        "            return False #si encuentra divisor, da 0\n",
        "    return True #Sino encuentra divisor, da 1\n",
        "\n",
        "def ubicacion_primos(posicion):\n",
        "\n",
        "    encontrados = 0 #Contador\n",
        "    numero = 2 #Primer numero primo\n",
        "\n",
        "    while encontrados < posicion: #Mientras los numeros encontrados sean menores a mi input\n",
        "        if es_primo(numero): #se aplicara la función anterior empezando desde 2\n",
        "            encontrados += 1 #cuando sea verdadera, se suma 1\n",
        "        if encontrados < posicion: #A su vez, mientras encontrados sea menor a mi input\n",
        "            numero += 1 #se le va a ir sumando +1 al 2\n",
        "\n",
        "    return numero #Devolviendo el numero primo\n",
        "\n",
        "posicion = int(input(\"La posición de número primo que quiere saber es la Nro   \")) #La posición que quiero saber\n",
        "numero_primo = ubicacion_primos(posicion) #La función que me da el numero primo, según el input\n",
        "print(\"El número primo nro \", posicion, \"es \",numero_primo)  #Ultimo print que me da la posición y numero primo\n"
      ],
      "metadata": {
        "colab": {
          "base_uri": "https://localhost:8080/"
        },
        "id": "i-vuaSfa-ClZ",
        "outputId": "df941128-d301-4468-807b-29fd05b779c5"
      },
      "execution_count": 17,
      "outputs": [
        {
          "output_type": "stream",
          "name": "stdout",
          "text": [
            "La posición de número primo que quiere saber es la Nro   5\n",
            "El número primo nro  5 es  11\n"
          ]
        }
      ]
    }
  ]
}